{
 "cells": [
  {
   "cell_type": "markdown",
   "metadata": {},
   "source": [
    "# <u>Self Practice 5 and 6(Supervised Learning)</u>\n",
    "Supervised Learning(Basic and Advanced) & Unsupervised Learning\n",
    "***\n",
    "Date: 11th November 2019<br>\n",
    "Author: Samuel Natamihardja<br>\n",
    "Company: Home Credit Indonesia"
   ]
  },
  {
   "cell_type": "markdown",
   "metadata": {},
   "source": [
    "#### Importing Library"
   ]
  },
  {
   "cell_type": "code",
   "execution_count": 1,
   "metadata": {},
   "outputs": [],
   "source": [
    "import pandas as pd #data wrangling\n",
    "import numpy as np #calculation\n",
    "import matplotlib.pyplot as plt #visualization\n",
    "import seaborn as sns #visualization\n",
    "\n",
    "# Algorithm Supervised Learning\n",
    "from sklearn.tree import DecisionTreeClassifier\n",
    "from sklearn.neighbors import KNeighborsClassifier\n",
    "from sklearn.ensemble import RandomForestClassifier\n",
    "from sklearn.ensemble import VotingClassifier\n",
    "from mlxtend.classifier import StackingClassifier\n",
    "from sklearn.linear_model import LogisticRegression\n",
    "\n",
    "#Model Evaluation\n",
    "from sklearn import metrics\n",
    "from sklearn.metrics import auc, roc_curve\n",
    "from sklearn.metrics import accuracy_score"
   ]
  },
  {
   "cell_type": "markdown",
   "metadata": {},
   "source": [
    "#### Importing Dataset"
   ]
  },
  {
   "cell_type": "code",
   "execution_count": 2,
   "metadata": {},
   "outputs": [],
   "source": [
    "df_train_raw = pd.read_csv('dataset/train.csv')\n",
    "df_test_raw = pd.read_csv('dataset/test.csv')"
   ]
  },
  {
   "cell_type": "code",
   "execution_count": 3,
   "metadata": {},
   "outputs": [
    {
     "name": "stdout",
     "output_type": "stream",
     "text": [
      "Train dataset contains 8000 rows and 21 columns.\n",
      "Test dataset contains 2000 rows and 20 columns.\n"
     ]
    }
   ],
   "source": [
    "row1 , column1 = df_train_raw.shape\n",
    "row2 , column2 = df_test_raw.shape\n",
    "print('Train dataset contains', row1, 'rows and', column1, 'columns.')\n",
    "print('Test dataset contains', row2, 'rows and', column2, 'columns.')"
   ]
  },
  {
   "cell_type": "code",
   "execution_count": 4,
   "metadata": {},
   "outputs": [],
   "source": [
    "# Preparing X_train, X_test, y_train, y_test\n",
    "X_train = df_train_raw.drop(columns='att10', axis=1)\n",
    "X_test = df_test_raw.copy()\n",
    "y_train = df_train_raw[['att10']]\n",
    "# y_test = df_test_raw[['att10']]"
   ]
  },
  {
   "cell_type": "markdown",
   "metadata": {},
   "source": [
    "### Supervised Learning"
   ]
  },
  {
   "cell_type": "markdown",
   "metadata": {},
   "source": [
    "Given the train.csv and test.csv, perform the following actions.\n",
    "1. Create classifiers from train.csv data, in order to predict att10 as label based on the\n",
    "rest of the attributes. Use at least 5 algorithms (k-NN, Decision Tree, Logistic\n",
    "Regression, Voting, Averaging, Bagging, Random Forest, Averaging, Voting, AdaBoost,\n",
    "XGBoost, LightGBM, CatBoost, or Stacking). Use AUC for your model evaluation\n",
    "performance.\n",
    "Submit your .ipynb file that contains your coding process in creating classifiers.\n",
    "2. Choose the best Classifier based on highest AUC and use it for predicting the test.csv\n",
    "data.\n",
    "Submit your .csv file that contains the prediction of test.csv data. Sample of prediction\n",
    "can be found in sample_prediction.csv file.\n",
    "***"
   ]
  },
  {
   "cell_type": "markdown",
   "metadata": {},
   "source": [
    "### Decision Tree (1st Algorithm)"
   ]
  },
  {
   "cell_type": "code",
   "execution_count": 5,
   "metadata": {},
   "outputs": [],
   "source": [
    "# Create Decision Tree Object\n",
    "clf_dt = DecisionTreeClassifier()"
   ]
  },
  {
   "cell_type": "code",
   "execution_count": 6,
   "metadata": {},
   "outputs": [
    {
     "name": "stdout",
     "output_type": "stream",
     "text": [
      "Decision Tree Accuracy: 1.000\n",
      "Decision Tree AUC train = 1.0\n"
     ]
    }
   ],
   "source": [
    "np.random.seed(42)\n",
    "\n",
    "# Fit it to the training set to Decision Tree and predict \n",
    "clf_dt.fit(X_train, y_train)\n",
    "y_pred_dt = clf_dt.predict(X_train)\n",
    "\n",
    "# Get the accuracy score\n",
    "acc_dt = accuracy_score(y_train, y_pred_dt)\n",
    "print(\"Decision Tree Accuracy: {:0.3f}\".format(acc_dt))\n",
    "\n",
    "# Area Under Curve(AUC) for Decision Tree\n",
    "fpr_train_dt, tpr_train_dt, threshold_dt = metrics.roc_curve(y_train, y_pred_dt)\n",
    "print('Decision Tree AUC train = {}'.format(metrics.auc(fpr_train_dt, tpr_train_dt)))"
   ]
  },
  {
   "cell_type": "markdown",
   "metadata": {},
   "source": [
    "### K-NNeighbors (2nd Algorithm)"
   ]
  },
  {
   "cell_type": "code",
   "execution_count": 7,
   "metadata": {},
   "outputs": [],
   "source": [
    "# Create K-NNeighbors Object\n",
    "clf_knn = KNeighborsClassifier()"
   ]
  },
  {
   "cell_type": "code",
   "execution_count": 8,
   "metadata": {},
   "outputs": [
    {
     "name": "stderr",
     "output_type": "stream",
     "text": [
      "D:\\Anaconda3\\lib\\site-packages\\ipykernel_launcher.py:4: DataConversionWarning: A column-vector y was passed when a 1d array was expected. Please change the shape of y to (n_samples, ), for example using ravel().\n",
      "  after removing the cwd from sys.path.\n"
     ]
    },
    {
     "name": "stdout",
     "output_type": "stream",
     "text": [
      "K-NNeighbors Accuracy: 0.953\n",
      "K-NNeighbors AUC train = 0.947972863134209\n"
     ]
    }
   ],
   "source": [
    "np.random.seed(42)\n",
    "\n",
    "# Fit it to the training set to K-NNeighbors and predict \n",
    "clf_knn.fit(X_train, y_train)\n",
    "y_pred_knn = clf_knn.predict(X_train)\n",
    "\n",
    "# Get the accuracy score\n",
    "acc_knn = accuracy_score(y_train, y_pred_knn)\n",
    "print(\"K-NNeighbors Accuracy: {:0.3f}\".format(acc_knn))\n",
    "\n",
    "# Area Under Curve(AUC) for K-NNeighbors\n",
    "fpr_train_knn, tpr_train_knn, threshold_knn = metrics.roc_curve(y_train, y_pred_knn)\n",
    "print('K-NNeighbors AUC train = {}'.format(metrics.auc(fpr_train_knn, tpr_train_knn)))"
   ]
  },
  {
   "cell_type": "markdown",
   "metadata": {},
   "source": [
    "### Random Forest (3rd Algorithm)"
   ]
  },
  {
   "cell_type": "code",
   "execution_count": 9,
   "metadata": {},
   "outputs": [],
   "source": [
    "# Create Random Forest Object\n",
    "clf_rf = RandomForestClassifier()"
   ]
  },
  {
   "cell_type": "code",
   "execution_count": 10,
   "metadata": {},
   "outputs": [
    {
     "name": "stdout",
     "output_type": "stream",
     "text": [
      "Random Forest Accuracy: 0.998\n",
      "Random Forest AUC train = 0.9955706096925482\n"
     ]
    },
    {
     "name": "stderr",
     "output_type": "stream",
     "text": [
      "D:\\Anaconda3\\lib\\site-packages\\sklearn\\ensemble\\forest.py:245: FutureWarning: The default value of n_estimators will change from 10 in version 0.20 to 100 in 0.22.\n",
      "  \"10 in version 0.20 to 100 in 0.22.\", FutureWarning)\n",
      "D:\\Anaconda3\\lib\\site-packages\\ipykernel_launcher.py:4: DataConversionWarning: A column-vector y was passed when a 1d array was expected. Please change the shape of y to (n_samples,), for example using ravel().\n",
      "  after removing the cwd from sys.path.\n"
     ]
    }
   ],
   "source": [
    "np.random.seed(42)\n",
    "\n",
    "# Fit it to the training set to Random Forest and predict \n",
    "clf_rf.fit(X_train, y_train)\n",
    "y_pred_rf = clf_rf.predict(X_train)\n",
    "\n",
    "# Get the accuracy score\n",
    "acc_rf = accuracy_score(y_train, y_pred_rf)\n",
    "print(\"Random Forest Accuracy: {:0.3f}\".format(acc_rf))\n",
    "\n",
    "# Area Under Curve(AUC) for Random Forest\n",
    "fpr_train_rf, tpr_train_rf, threshold_rf = metrics.roc_curve(y_train, y_pred_rf)\n",
    "print('Random Forest AUC train = {}'.format(metrics.auc(fpr_train_rf, tpr_train_rf)))"
   ]
  },
  {
   "cell_type": "markdown",
   "metadata": {},
   "source": [
    "### Voting (4th Algorithm)"
   ]
  },
  {
   "cell_type": "markdown",
   "metadata": {},
   "source": [
    "This algorithm using 3 algorithms aboved(Decision Tree, K-NNeighbors, Random Forest)"
   ]
  },
  {
   "cell_type": "code",
   "execution_count": 11,
   "metadata": {},
   "outputs": [],
   "source": [
    "clf_voting = VotingClassifier(estimators=[\n",
    "('knn', clf_knn),\n",
    "('dt', clf_dt),\n",
    "('lr', clf_rf)])"
   ]
  },
  {
   "cell_type": "code",
   "execution_count": 12,
   "metadata": {},
   "outputs": [
    {
     "name": "stderr",
     "output_type": "stream",
     "text": [
      "D:\\Anaconda3\\lib\\site-packages\\sklearn\\preprocessing\\label.py:219: DataConversionWarning: A column-vector y was passed when a 1d array was expected. Please change the shape of y to (n_samples, ), for example using ravel().\n",
      "  y = column_or_1d(y, warn=True)\n",
      "D:\\Anaconda3\\lib\\site-packages\\sklearn\\preprocessing\\label.py:252: DataConversionWarning: A column-vector y was passed when a 1d array was expected. Please change the shape of y to (n_samples, ), for example using ravel().\n",
      "  y = column_or_1d(y, warn=True)\n"
     ]
    },
    {
     "name": "stdout",
     "output_type": "stream",
     "text": [
      "Accuracy: 0.998\n",
      "Voting AUC train = 0.9963522668056279\n"
     ]
    }
   ],
   "source": [
    "np.random.seed(42)\n",
    "\n",
    "# Fit it to the training set to Voting and predict\n",
    "clf_voting.fit(X_train, y_train)\n",
    "y_pred_Voting = clf_voting.predict(X_train)\n",
    "\n",
    "# Get the accuracy score\n",
    "acc = accuracy_score(y_train, y_pred_Voting)\n",
    "print(\"Accuracy: {:0.3f}\".format(acc))\n",
    "\n",
    "# Area Under Curve(AUC) for Voting\n",
    "fpr_train_Voting, tpr_train_Voting, threshold_Voting = metrics.roc_curve(y_train, y_pred_Voting)\n",
    "print('Voting AUC train = {}'.format(metrics.auc(fpr_train_Voting, tpr_train_Voting)))"
   ]
  },
  {
   "cell_type": "markdown",
   "metadata": {},
   "source": [
    "### Stacking (5th Algorithm)"
   ]
  },
  {
   "cell_type": "markdown",
   "metadata": {},
   "source": [
    "This algorithm using 4 algorithms aboved(Decision Tree, K-NNeighbors, Random Forest, Voting) and Stacked with Logistic Regression"
   ]
  },
  {
   "cell_type": "code",
   "execution_count": 13,
   "metadata": {},
   "outputs": [],
   "source": [
    "# Create Logistic Regression Object\n",
    "clf_lr = LogisticRegression()\n",
    "\n",
    "# Create Stacking Object\n",
    "sclf = StackingClassifier(classifiers=[clf_knn, clf_dt, clf_rf, clf_voting], \n",
    "                          meta_classifier=clf_lr)"
   ]
  },
  {
   "cell_type": "code",
   "execution_count": 14,
   "metadata": {},
   "outputs": [
    {
     "name": "stderr",
     "output_type": "stream",
     "text": [
      "D:\\Anaconda3\\lib\\site-packages\\mlxtend\\classifier\\stacking_classification.py:161: DataConversionWarning: A column-vector y was passed when a 1d array was expected. Please change the shape of y to (n_samples, ), for example using ravel().\n",
      "  clf.fit(X, y)\n",
      "D:\\Anaconda3\\lib\\site-packages\\mlxtend\\classifier\\stacking_classification.py:161: DataConversionWarning: A column-vector y was passed when a 1d array was expected. Please change the shape of y to (n_samples,), for example using ravel().\n",
      "  clf.fit(X, y)\n",
      "D:\\Anaconda3\\lib\\site-packages\\sklearn\\preprocessing\\label.py:219: DataConversionWarning: A column-vector y was passed when a 1d array was expected. Please change the shape of y to (n_samples, ), for example using ravel().\n",
      "  y = column_or_1d(y, warn=True)\n",
      "D:\\Anaconda3\\lib\\site-packages\\sklearn\\preprocessing\\label.py:252: DataConversionWarning: A column-vector y was passed when a 1d array was expected. Please change the shape of y to (n_samples, ), for example using ravel().\n",
      "  y = column_or_1d(y, warn=True)\n",
      "D:\\Anaconda3\\lib\\site-packages\\sklearn\\linear_model\\logistic.py:432: FutureWarning: Default solver will be changed to 'lbfgs' in 0.22. Specify a solver to silence this warning.\n",
      "  FutureWarning)\n",
      "D:\\Anaconda3\\lib\\site-packages\\sklearn\\utils\\validation.py:724: DataConversionWarning: A column-vector y was passed when a 1d array was expected. Please change the shape of y to (n_samples, ), for example using ravel().\n",
      "  y = column_or_1d(y, warn=True)\n"
     ]
    },
    {
     "name": "stdout",
     "output_type": "stream",
     "text": [
      "Stacking Classifier Accuracy: 1.000\n",
      "Stacking AUC train = 0.9989577905158937\n"
     ]
    }
   ],
   "source": [
    "np.random.seed(42)\n",
    "\n",
    "# Fit it to the training set to Stacking and predict\n",
    "sclf.fit(X_train, y_train)\n",
    "y_pred_sclf = sclf.predict(X_train)\n",
    "\n",
    "# Get the accuracy score\n",
    "acc_sclf = accuracy_score(y_train, y_pred_sclf)\n",
    "print(\"Stacking Classifier Accuracy: {:0.3f}\".format(acc_sclf))\n",
    "\n",
    "# Area Under Curve(AUC) for Stacking\n",
    "fpr_train_sclf, tpr_train_sclf, threshold_sclf = metrics.roc_curve(y_train, y_pred_sclf)\n",
    "print('Stacking AUC train = {}'.format(metrics.auc(fpr_train_sclf, tpr_train_sclf)))"
   ]
  },
  {
   "cell_type": "markdown",
   "metadata": {},
   "source": [
    "### Conclusion(Supervised Learning)"
   ]
  },
  {
   "cell_type": "markdown",
   "metadata": {},
   "source": [
    "Summary of AUC for each algoritm above:"
   ]
  },
  {
   "cell_type": "code",
   "execution_count": 15,
   "metadata": {},
   "outputs": [
    {
     "name": "stdout",
     "output_type": "stream",
     "text": [
      "Decision Tree AUC train = 1.0\n",
      "K-NNeighbors AUC train = 0.947972863134209\n",
      "Random Forest AUC train = 0.9955706096925482\n",
      "Voting AUC train = 0.9963522668056279\n",
      "Stacking AUC train = 0.9989577905158937\n"
     ]
    }
   ],
   "source": [
    "print('Decision Tree AUC train = {}'.format(metrics.auc(fpr_train_dt, tpr_train_dt)))\n",
    "print('K-NNeighbors AUC train = {}'.format(metrics.auc(fpr_train_knn, tpr_train_knn)))\n",
    "print('Random Forest AUC train = {}'.format(metrics.auc(fpr_train_rf, tpr_train_rf)))\n",
    "print('Voting AUC train = {}'.format(metrics.auc(fpr_train_Voting, tpr_train_Voting)))\n",
    "print('Stacking AUC train = {}'.format(metrics.auc(fpr_train_sclf, tpr_train_sclf)))"
   ]
  },
  {
   "cell_type": "markdown",
   "metadata": {},
   "source": [
    "Based on summary above, the highest AUC goes to Decision Tree algorithm."
   ]
  },
  {
   "cell_type": "code",
   "execution_count": 16,
   "metadata": {},
   "outputs": [],
   "source": [
    "np.random.seed(42)\n",
    "\n",
    "# Fit it to the test set to Decision Tree and predict \n",
    "y_test_dt = clf_dt.predict(X_test)\n",
    "tmp_y_pred = pd.DataFrame(y_test_dt)\n",
    "tmp_y_pred['prediction_for_att10'] = tmp_y_pred[0]\n",
    "tmp_y_pred.drop(columns=0, inplace=True)\n",
    "\n",
    "# Copy test dataframe to new prediction dataframe\n",
    "df_test_pred = df_test_raw.copy()\n",
    "\n",
    "# add prediction to new dataframe\n",
    "df_test_pred = df_test_pred.join(tmp_y_pred)\n",
    "df_test_pred.head()\n",
    "\n",
    "# Export prediction to csv\n",
    "df_test_pred[['prediction_for_att10']].to_csv('prediction_of_test.csv')"
   ]
  }
 ],
 "metadata": {
  "kernelspec": {
   "display_name": "Python 3",
   "language": "python",
   "name": "python3"
  },
  "language_info": {
   "codemirror_mode": {
    "name": "ipython",
    "version": 3
   },
   "file_extension": ".py",
   "mimetype": "text/x-python",
   "name": "python",
   "nbconvert_exporter": "python",
   "pygments_lexer": "ipython3",
   "version": "3.7.4"
  }
 },
 "nbformat": 4,
 "nbformat_minor": 2
}
