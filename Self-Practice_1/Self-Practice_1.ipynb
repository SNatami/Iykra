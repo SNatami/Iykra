{
 "cells": [
  {
   "cell_type": "markdown",
   "metadata": {},
   "source": [
    "# Self Practice(Practice Case 1)"
   ]
  },
  {
   "cell_type": "markdown",
   "metadata": {},
   "source": [
    "Date: 24th October 2019\n",
    "\n",
    "Authored: Samuel Natamihardja\n",
    "<br>Company: Home Credit Indonesia"
   ]
  },
  {
   "cell_type": "markdown",
   "metadata": {},
   "source": [
    "## Part A\n",
    "On your Jupyter notebook, answer the following questions! "
   ]
  },
  {
   "cell_type": "code",
   "execution_count": 191,
   "metadata": {},
   "outputs": [],
   "source": [
    "# Importing pandas package\n",
    "import pandas as pd\n",
    "import numpy as np\n",
    "\n",
    "# Read data from github website\n",
    "dataset = pd.read_csv(\"https://raw.githubusercontent.com/arikunco/GermanCredit/master/dataset/german_credit_data_with_risk.csv\",encoding ='latin1')"
   ]
  },
  {
   "cell_type": "code",
   "execution_count": 192,
   "metadata": {},
   "outputs": [
    {
     "name": "stdout",
     "output_type": "stream",
     "text": [
      "Saving accounts     183\n",
      "Checking account    394\n",
      "dtype: int64\n"
     ]
    }
   ],
   "source": [
    "# check whether there's a null values on each columns.\n",
    "null_columns = dataset.isnull().sum()\n",
    "print(null_columns[null_columns > 0])"
   ]
  },
  {
   "cell_type": "code",
   "execution_count": 193,
   "metadata": {
    "collapsed": true
   },
   "outputs": [],
   "source": [
    "# check how much null on each columns\n",
    "null_SA = len(dataset['Saving accounts'][dataset['Saving accounts'].isnull()])\n",
    "\n",
    "# print(len(dataset))\n",
    "# print(dataset['Saving accounts'].value_counts())\n",
    "\n",
    "# null_CA = len(dataset['Checking account'][dataset['Checking account'].isnull()])\n",
    "# print(dataset['Checking account'].value_counts())\n",
    "\n",
    "\n",
    "# dataset[dataset['Saving accounts'].isnull()]\n"
   ]
  },
  {
   "cell_type": "markdown",
   "metadata": {},
   "source": [
    "### 1. How many rows and columns reflected in the dataset?"
   ]
  },
  {
   "cell_type": "code",
   "execution_count": 194,
   "metadata": {},
   "outputs": [
    {
     "name": "stdout",
     "output_type": "stream",
     "text": [
      "There're 1000 rows and 11 columns.\n"
     ]
    }
   ],
   "source": [
    "cnt_rows = dataset.shape[0]\n",
    "str_rows = str(cnt_rows)\n",
    "str_columns = str(dataset.shape[1])\n",
    "print(\"There're \" + str_rows + \" rows and \" + str_columns + \" columns.\")"
   ]
  },
  {
   "cell_type": "markdown",
   "metadata": {},
   "source": [
    "### 2. What is the minimum, maximum, and mean of the customer's age?"
   ]
  },
  {
   "cell_type": "code",
   "execution_count": 195,
   "metadata": {},
   "outputs": [
    {
     "name": "stdout",
     "output_type": "stream",
     "text": [
      "Maximum/Oldest customer's age: 75 years old.\n",
      "Minimum/Youngest customer's age: 19 years old.\n",
      "Mean/Average customer's age: 35.5 years old.\n"
     ]
    }
   ],
   "source": [
    "# Validated by \".describe()\" function.\n",
    "dataset['Age'].describe()\n",
    "\n",
    "print(\"Maximum/Oldest customer's age: \"+ str(dataset['Age'].max()) + \" years old.\")\n",
    "print(\"Minimum/Youngest customer's age: \"+ str(dataset['Age'].min()) + \" years old.\")\n",
    "print(\"Mean/Average customer's age: \"+ str(round(dataset['Age'].mean(),1)) + \" years old.\")"
   ]
  },
  {
   "cell_type": "markdown",
   "metadata": {},
   "source": [
    "### 3. How many are male and how many are female? Why?"
   ]
  },
  {
   "cell_type": "code",
   "execution_count": 196,
   "metadata": {},
   "outputs": [
    {
     "name": "stdout",
     "output_type": "stream",
     "text": [
      "There're 690(69.0%) Male and 310(31.0%) Female.\n",
      "\n",
      "Why?\n",
      "\n",
      "it might related to risk perspective. Statistically from risk perspective Male had more 'good' risk than Female.\n",
      "(Male: 72.32%, Female:64.84% )\n"
     ]
    }
   ],
   "source": [
    "# Validated by \".value_counts()\" function.\n",
    "dataset['Sex'].value_counts()\n",
    "\n",
    "cnt_male = len(dataset['Sex'][dataset.Sex == \"male\"])\n",
    "cnt_female = len(dataset['Sex'][dataset.Sex == \"female\"])\n",
    "cnt_sex = len(dataset['Sex'])\n",
    "pct_male = round((cnt_male/cnt_sex)*100,2)\n",
    "pct_female = round(((cnt_female/cnt_sex)*100),2)\n",
    "\n",
    "\n",
    "\n",
    "cnt_good_male = len(dataset['Risk'][(dataset.Risk == \"good\") & (dataset.Sex ==\"male\")])\n",
    "cnt_good_female = len(dataset['Risk'][(dataset.Risk == \"good\") & (dataset.Sex ==\"female\")])\n",
    "cnt_bad_male = len(dataset['Risk'][(dataset.Risk == \"bad\") & (dataset.Sex ==\"male\")])\n",
    "cnt_bad_female = len(dataset['Risk'][(dataset.Risk == \"bad\") & (dataset.Sex ==\"female\")])\n",
    "\n",
    "pct_good_male = round((cnt_good_male/cnt_male)*100,2)\n",
    "pct_bad_male = round((cnt_bad_male/cnt_male)*100,2)\n",
    "pct_good_female = round((cnt_good_female/cnt_female)*100,2)\n",
    "pct_bad_female = round((cnt_bad_female/cnt_female)*100,2)\n",
    "\n",
    "\n",
    "print(\"There're {0}({1:.1f}%) Male and {2}({3:.1f}%) Female.\".format(cnt_male,pct_male,cnt_female, pct_female))\n",
    "print(\"\")\n",
    "print(\"Why?\")\n",
    "print(\"\")\n",
    "print(\"it might related to risk perspective. Statistically from risk perspective Male had more 'good' risk than Female.\" ) \n",
    "print(\"(Male: \" + str(pct_good_male) + \"%, Female:\" + str(pct_good_female) + \"% )\")"
   ]
  },
  {
   "cell_type": "markdown",
   "metadata": {},
   "source": [
    "### 4. How many high skilled workers customers reflected in the dataset?"
   ]
  },
  {
   "cell_type": "code",
   "execution_count": 197,
   "metadata": {},
   "outputs": [
    {
     "name": "stdout",
     "output_type": "stream",
     "text": [
      "There're 148 customers that's a highly skilled workers.\n"
     ]
    }
   ],
   "source": [
    "# Validated by \".value_counts()\" function.\n",
    "dataset['Job'].value_counts()\n",
    "\n",
    "cnt_highly_skilled= len(dataset[dataset.Job ==3])\n",
    "\n",
    "print(\"There're \" + str(cnt_highly_skilled) + \" customers that's a highly skilled workers.\")"
   ]
  },
  {
   "cell_type": "markdown",
   "metadata": {},
   "source": [
    "### 5. How many customers who own the house?"
   ]
  },
  {
   "cell_type": "code",
   "execution_count": 198,
   "metadata": {},
   "outputs": [
    {
     "name": "stdout",
     "output_type": "stream",
     "text": [
      "There're 713 customers who owned a house.\n"
     ]
    }
   ],
   "source": [
    "# Validated by \".value_counts()\" function.\n",
    "dataset['Housing'].value_counts()\n",
    "\n",
    "cnt_house_owned= len(dataset[dataset.Housing ==\"own\"])\n",
    "\n",
    "print(\"There're \" + str(cnt_house_owned) + \" customers who owned a house.\")"
   ]
  },
  {
   "cell_type": "markdown",
   "metadata": {},
   "source": [
    "### 6. How many customers who have 'rich' Saving accounts?"
   ]
  },
  {
   "cell_type": "code",
   "execution_count": 199,
   "metadata": {},
   "outputs": [
    {
     "name": "stdout",
     "output_type": "stream",
     "text": [
      "There're 48 customers who had 'rich' Saving accounts.\n"
     ]
    }
   ],
   "source": [
    "# Validated by \".value_counts()\" function.\n",
    "dataset['Saving accounts'].value_counts()\n",
    "\n",
    "cnt_rich_SA= len(dataset[dataset['Saving accounts'] ==\"rich\"])\n",
    "\n",
    "print(\"There're \" + str(cnt_rich_SA) + \" customers who had 'rich' Saving accounts.\")"
   ]
  },
  {
   "cell_type": "markdown",
   "metadata": {},
   "source": [
    "### 7. How many customers who do not have checking accounts or have zero checking account?"
   ]
  },
  {
   "cell_type": "code",
   "execution_count": 200,
   "metadata": {},
   "outputs": [
    {
     "name": "stdout",
     "output_type": "stream",
     "text": [
      "There're 394 customers who don't have checking accounts or have zero checking account.\n"
     ]
    }
   ],
   "source": [
    "# Validated by \".value_counts()\" function.\n",
    "dataset['Checking account'].value_counts()\n",
    "\n",
    "# Don't have checking accounts mean that column value is null.\n",
    "cnt_zero_CA= len(dataset[dataset['Checking account'].isnull()])\n",
    "\n",
    "print(\"There're \" + str(cnt_zero_CA) + \" customers who don't have checking accounts or have zero checking account.\")"
   ]
  },
  {
   "cell_type": "markdown",
   "metadata": {},
   "source": [
    "### 8. Who is the one who have highest credit amount? Show us the profile of the age, sex, job, housing, saving      account, and checking account!"
   ]
  },
  {
   "cell_type": "code",
   "execution_count": 201,
   "metadata": {},
   "outputs": [
    {
     "data": {
      "text/html": [
       "<div>\n",
       "<style>\n",
       "    .dataframe thead tr:only-child th {\n",
       "        text-align: right;\n",
       "    }\n",
       "\n",
       "    .dataframe thead th {\n",
       "        text-align: left;\n",
       "    }\n",
       "\n",
       "    .dataframe tbody tr th {\n",
       "        vertical-align: top;\n",
       "    }\n",
       "</style>\n",
       "<table border=\"1\" class=\"dataframe\">\n",
       "  <thead>\n",
       "    <tr style=\"text-align: right;\">\n",
       "      <th></th>\n",
       "      <th>915</th>\n",
       "    </tr>\n",
       "  </thead>\n",
       "  <tbody>\n",
       "    <tr>\n",
       "      <th>Unnamed: 0</th>\n",
       "      <td>915</td>\n",
       "    </tr>\n",
       "    <tr>\n",
       "      <th>Age</th>\n",
       "      <td>32</td>\n",
       "    </tr>\n",
       "    <tr>\n",
       "      <th>Sex</th>\n",
       "      <td>female</td>\n",
       "    </tr>\n",
       "    <tr>\n",
       "      <th>Job</th>\n",
       "      <td>3</td>\n",
       "    </tr>\n",
       "    <tr>\n",
       "      <th>Housing</th>\n",
       "      <td>own</td>\n",
       "    </tr>\n",
       "    <tr>\n",
       "      <th>Saving accounts</th>\n",
       "      <td>little</td>\n",
       "    </tr>\n",
       "    <tr>\n",
       "      <th>Checking account</th>\n",
       "      <td>moderate</td>\n",
       "    </tr>\n",
       "    <tr>\n",
       "      <th>Credit amount</th>\n",
       "      <td>18424</td>\n",
       "    </tr>\n",
       "  </tbody>\n",
       "</table>\n",
       "</div>"
      ],
      "text/plain": [
       "                       915\n",
       "Unnamed: 0             915\n",
       "Age                     32\n",
       "Sex                 female\n",
       "Job                      3\n",
       "Housing                own\n",
       "Saving accounts     little\n",
       "Checking account  moderate\n",
       "Credit amount        18424"
      ]
     },
     "execution_count": 201,
     "metadata": {},
     "output_type": "execute_result"
    }
   ],
   "source": [
    "highest_credit = dataset[['Unnamed: 0','Age','Sex','Job','Housing','Saving accounts','Checking account','Credit amount']].sort_values(by=\"Credit amount\",ascending= False).head(1)\n",
    "\n",
    "highest_credit.transpose()"
   ]
  },
  {
   "cell_type": "markdown",
   "metadata": {},
   "source": [
    "\n",
    "### 9. How many customers are classified as good risk and bad risk?"
   ]
  },
  {
   "cell_type": "code",
   "execution_count": 202,
   "metadata": {},
   "outputs": [
    {
     "name": "stdout",
     "output_type": "stream",
     "text": [
      "There're 700(70.0%) customers classified as good risk and 300(30.0%) as bad risk.\n"
     ]
    }
   ],
   "source": [
    "# Validated by \".value_counts()\" function.\n",
    "dataset['Risk'].value_counts()\n",
    "\n",
    "cnt_good = len(dataset['Risk'][dataset.Risk == \"good\"])\n",
    "cnt_bad = len(dataset['Risk'][dataset.Risk == \"bad\"])\n",
    "cnt_risk = len(dataset['Risk'])\n",
    "pct_good = round((cnt_good/cnt_risk)*100,2)\n",
    "pct_bad = round(((cnt_bad/cnt_risk)*100),2)\n",
    "\n",
    "print(\"There're {0}({1:.1f}%) customers classified as good risk and {2}({3:.1f}%) as bad risk.\".format(cnt_good,pct_good,cnt_bad, pct_bad))"
   ]
  },
  {
   "cell_type": "markdown",
   "metadata": {},
   "source": [
    "### 10. Is the average of credit amount for good risk is higher than bad risk?"
   ]
  },
  {
   "cell_type": "code",
   "execution_count": 203,
   "metadata": {},
   "outputs": [
    {
     "name": "stdout",
     "output_type": "stream",
     "text": [
      "No\n"
     ]
    }
   ],
   "source": [
    "dataset_crisk = dataset[['Credit amount','Risk']]\n",
    "\n",
    "avg_good_risk = round(dataset_crisk['Credit amount'][dataset_crisk.Risk == \"good\"].mean(),1)\n",
    "avg_bad_risk = round(dataset_crisk['Credit amount'][dataset_crisk.Risk == \"bad\"].mean(),1)\n",
    "\n",
    "if avg_good_risk > avg_bad_risk:\n",
    "    print('Yes')\n",
    "else:\n",
    "    print('No')"
   ]
  },
  {
   "cell_type": "markdown",
   "metadata": {},
   "source": [
    "## Part B\n",
    "Aside questions mentioned on Part A, create 10 more questions and answers to understand more about\n",
    "the dataset. "
   ]
  },
  {
   "cell_type": "markdown",
   "metadata": {},
   "source": [
    "### 1. What is the average terms of customer that had a 'good' risk?"
   ]
  },
  {
   "cell_type": "code",
   "execution_count": 204,
   "metadata": {},
   "outputs": [
    {
     "name": "stdout",
     "output_type": "stream",
     "text": [
      "The average terms of customer that had a 'good' risk is 19 months.\n"
     ]
    }
   ],
   "source": [
    "avg_good_terms= round(dataset['Duration'][dataset.Risk ==\"good\"].mean())\n",
    "\n",
    "print(\"The average terms of customer that had a 'good' risk is \" + str(avg_good_terms) + \" months.\")"
   ]
  },
  {
   "cell_type": "markdown",
   "metadata": {},
   "source": [
    "### 2. Based on Question 3 in Part A, we discovered Male customer is more than Female. But how's the Male Credit amount position to the whole credit amount?"
   ]
  },
  {
   "cell_type": "code",
   "execution_count": 205,
   "metadata": {},
   "outputs": [
    {
     "name": "stdout",
     "output_type": "stream",
     "text": [
      "Total of Male credit amount is 72.7% from whole credit amount.\n"
     ]
    }
   ],
   "source": [
    "total_credit = dataset['Credit amount'].sum()\n",
    "total_male_credit = dataset['Credit amount'][dataset.Sex == \"male\"].sum()\n",
    "pct_male_credit = round(((total_male_credit/total_credit)*100),1)\n",
    "\n",
    "print(\"Total of Male credit amount is \"+ str(pct_male_credit) + \"% from whole credit amount.\")"
   ]
  },
  {
   "cell_type": "markdown",
   "metadata": {},
   "source": [
    "### 3. What purpose that mostly customer proposed and how it's positioned to whole credit amount?"
   ]
  },
  {
   "cell_type": "code",
   "execution_count": 254,
   "metadata": {},
   "outputs": [
    {
     "name": "stdout",
     "output_type": "stream",
     "text": [
      "The most purpose that customer mostly proposed is car with 337(33.7%) applications\n",
      "and the credit amount is 38.8% from whole credit amount.\n"
     ]
    }
   ],
   "source": [
    "# generated by previous steps\n",
    "cnt_rows\n",
    "total_credit\n",
    "\n",
    "\n",
    "dataset_purpose = dataset[['Purpose','Credit amount','Unnamed: 0']]\n",
    "\n",
    "total_purpose_credit = pd.DataFrame(dataset_purpose.groupby('Purpose')['Credit amount'].sum())\n",
    "total_purpose_count = pd.DataFrame(dataset_purpose.groupby('Purpose')['Unnamed: 0'].count())\n",
    "\n",
    "# print(total_purpose_credit.sort_values(by='Credit amount', ascending=False))\n",
    "top_purpose = (total_purpose_count.join(total_purpose_credit)).sort_values(by='Unnamed: 0', ascending=False).head(1)\n",
    "top_purpose_name = top_purpose.index.values[0]\n",
    "top_purpose_cnt = top_purpose.iloc[0][0]\n",
    "top_purpose_credit = top_purpose.iloc[0][1]\n",
    "pct_top_purpose_credit = round((top_purpose_credit / total_credit)*100,1)\n",
    "pct_top_purpose_cnt = round((top_purpose_cnt / cnt_rows)*100,1)\n",
    "\n",
    "print(\"The most purpose that customer mostly proposed is \" + str(top_purpose_name) + \" with \" + str(top_purpose_cnt) +\"(\" + str(pct_top_purpose_cnt) + \"%) applications\")\n",
    "print(\"and the credit amount is \" + str(pct_top_purpose_credit) + \"% from whole credit amount.\")"
   ]
  },
  {
   "cell_type": "markdown",
   "metadata": {},
   "source": [
    "### 4. Based on previous question, what the percentage of 'good' Risk category for that purpose?"
   ]
  },
  {
   "cell_type": "code",
   "execution_count": 261,
   "metadata": {},
   "outputs": [
    {
     "name": "stdout",
     "output_type": "stream",
     "text": [
      "good Risk: 68.5%\n"
     ]
    }
   ],
   "source": [
    "total_top_purpose_good =  len(dataset[(dataset.Purpose == top_purpose_name) & (dataset.Risk == \"good\")])\n",
    "pct_total_top_purpose_good = round((total_top_purpose_good/top_purpose_cnt)*100,1)\n",
    "\n",
    "print(\"good Risk: \" + str(pct_total_top_purpose_good) + \"%\")"
   ]
  },
  {
   "cell_type": "markdown",
   "metadata": {},
   "source": [
    "### 5. What is the Saving accounts that mostly customer have?"
   ]
  },
  {
   "cell_type": "code",
   "execution_count": 207,
   "metadata": {},
   "outputs": [
    {
     "name": "stdout",
     "output_type": "stream",
     "text": [
      "Saving accounts that mostly customer have is Saving accounts type little(603 customers).\n"
     ]
    }
   ],
   "source": [
    "test = dataset['Saving accounts'].value_counts().sort_values(ascending=False).head(1)\n",
    "\n",
    "print(\"Saving accounts that mostly customer have is Saving accounts type \" + test.index[0] + \"(\" + str(test[0]) + \" customers).\")"
   ]
  },
  {
   "cell_type": "markdown",
   "metadata": {},
   "source": [
    "### 6. Is there any correlation between Saving account type with Risk category?"
   ]
  },
  {
   "cell_type": "code",
   "execution_count": 252,
   "metadata": {},
   "outputs": [
    {
     "name": "stdout",
     "output_type": "stream",
     "text": [
      "we can assume that this two is no correlation between this two.\n"
     ]
    }
   ],
   "source": [
    "dataset_SA_to_Risk = dataset[['Age','Credit amount']]\n",
    "temp_correlation = dataset_SA_to_Risk.corr()\n",
    "\n",
    "\n",
    "if(round(temp_correlation.iloc[0][1],1) == 0):\n",
    "    print(\"we can assume that this two is no correlation between this two.\")\n",
    "else:\n",
    "    print(\"There might some correlation between this two columns.\")"
   ]
  },
  {
   "cell_type": "markdown",
   "metadata": {},
   "source": [
    "### 7. On what age that had the highest credit amount?"
   ]
  },
  {
   "cell_type": "code",
   "execution_count": 286,
   "metadata": {},
   "outputs": [
    {
     "name": "stdout",
     "output_type": "stream",
     "text": [
      "32 years old.\n"
     ]
    }
   ],
   "source": [
    "highest = dataset[['Age','Credit amount']].sort_values(by=\"Credit amount\",ascending= False).head(1)\n",
    "top_age = highest.iloc[0][0]\n",
    "\n",
    "print(str(top_age) + \" years old.\")"
   ]
  },
  {
   "cell_type": "markdown",
   "metadata": {},
   "source": [
    "### 8. Following from previous question, what usually purpose proposed by them?"
   ]
  },
  {
   "cell_type": "code",
   "execution_count": 318,
   "metadata": {},
   "outputs": [
    {
     "name": "stdout",
     "output_type": "stream",
     "text": [
      "The purpose proposed by that age is car.\n"
     ]
    }
   ],
   "source": [
    "temp_dataset = dataset[['Age','Purpose']]\n",
    "\n",
    "tmp_top =  temp_dataset[temp_dataset.Age == top_age]['Purpose'].value_counts().sort_values(ascending = False).head(1)\n",
    "\n",
    "print(\"The purpose proposed by that age is \" + tmp_top.index[0] + \".\")"
   ]
  },
  {
   "cell_type": "markdown",
   "metadata": {},
   "source": [
    "### 9. On what age that had the highest number of 'bad' Risk ?"
   ]
  },
  {
   "cell_type": "code",
   "execution_count": 353,
   "metadata": {},
   "outputs": [
    {
     "name": "stdout",
     "output_type": "stream",
     "text": [
      "Age that had the highest number of 'bad' Risk is on Age 23.\n"
     ]
    }
   ],
   "source": [
    "temp_dataset = dataset[['Age','Risk']][dataset.Risk ==\"bad\"]\n",
    "\n",
    "temp_dataset  = pd.DataFrame(temp_dataset.groupby('Age')['Risk'].count())\n",
    "\n",
    "print(\"Age that had the highest number of 'bad' Risk is on Age \" + str(temp_dataset.sort_values(by= 'Risk', ascending = False).head(1).index[0])+\".\")"
   ]
  },
  {
   "cell_type": "markdown",
   "metadata": {},
   "source": [
    "### 10. Is there any correlation between Age with Amount Credit that being proposed?"
   ]
  },
  {
   "cell_type": "code",
   "execution_count": 357,
   "metadata": {},
   "outputs": [
    {
     "name": "stdout",
     "output_type": "stream",
     "text": [
      "we can assume that this two is no correlation between this two.\n"
     ]
    }
   ],
   "source": [
    "dataset_SA_to_Risk = dataset[['Age','Credit amount']]\n",
    "\n",
    "temp_correlation = dataset_SA_to_Risk.corr()\n",
    "\n",
    "\n",
    "if(round(temp_correlation.iloc[0][1],1) == 0):\n",
    "    print(\"we can assume that this two is no correlation between this two.\")\n",
    "else:\n",
    "    print(\"There might some correlation between this two columns.\")"
   ]
  },
  {
   "cell_type": "markdown",
   "metadata": {},
   "source": [
    "## Part C\n",
    "Define at least 3 business problems that you can find based on the dataset! "
   ]
  },
  {
   "cell_type": "markdown",
   "metadata": {},
   "source": [
    "1. Row data is pretty small to be analyzed.\n",
    "2. There's not enough information to analyzed.\n",
    "3. For Age column is not an effective way to describe Age, it should be date of birth. It might misslead the analysis.\n"
   ]
  }
 ],
 "metadata": {
  "kernelspec": {
   "display_name": "Python 3",
   "language": "python",
   "name": "python3"
  },
  "language_info": {
   "codemirror_mode": {
    "name": "ipython",
    "version": 3
   },
   "file_extension": ".py",
   "mimetype": "text/x-python",
   "name": "python",
   "nbconvert_exporter": "python",
   "pygments_lexer": "ipython3",
   "version": "3.7.4"
  }
 },
 "nbformat": 4,
 "nbformat_minor": 2
}
